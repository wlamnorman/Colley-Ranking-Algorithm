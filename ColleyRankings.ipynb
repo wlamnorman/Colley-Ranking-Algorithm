{
 "cells": [
  {
   "cell_type": "markdown",
   "id": "77d49d26",
   "metadata": {},
   "source": [
    "# Team Ranking based on Colley's method\n",
    "Resources used:\n",
    "- https://www.colleyrankings.com/matrate.pdf ($\\textbf{Colley's own description of the method}$ - reliable but bad notation and lengthy)\n",
    "- https://www.dcs.bbk.ac.uk/~ale/dsta+dsat/dsta+dsat-3/lm-ch3-colley.pdf (watch out for small errors)\n",
    "\n",
    "###  Method Description\n",
    "One can imagine a simple ranking system based on the winning percentage (of team $i$)\n",
    "\n",
    "$$r_i = \\frac{w_i}{t_i}$$\n",
    "\n",
    "the teams. Colley proposed a simple modification which\n",
    "- takes into account the opponent players strength\n",
    "- makes rankings \"zero sum\" (teams steal \"ranking score\", rankings does not really sum to 0, but $n_{\\text{teams}}/2$)\n",
    "- initially more stabler (a team who loses once does not have 0 ranking, but moves more slowly away from the teams' equilibrium)\n",
    "\n",
    "by instead using the (Laplace modified) winning percentage\n",
    "\n",
    "$$r_i = \\frac{w_i+1}{t_i+2}.$$\n",
    "\n",
    "Consider that we may write\n",
    "\n",
    "$$ w_i = \\frac{w_i-l_i}{2} + \\frac{w_i+l_i}{2} = \\frac{w_i-l_i}{2} + \\frac{t_i}{2}$$\n",
    "\n",
    "where we may estimate the $\\frac{t_i}{2}$ as\n",
    "\n",
    "$$ \\sum_{i=1}^{t_i} \\frac{1}{2} \\approx \\sum_{j\\in \\mathcal{O}_i} n_{i,j} r_j $$\n",
    "\n",
    "where $\\mathcal{O}_i$ is the set of opponents of team i and $n_{i,j}$ is the number of matches between $i$ and $j$ (note that the approximation is justified by the fact that the equilibrium of ratings is $\\frac{1}{2}$, but the approximation may be bad if there are multiple teams who only wins and loses - should not be a problem in fair match ups or sports where domination is unusual). We may then write\n",
    "\n",
    "$$ r_i \\approx \\frac{\\frac{w_i-l_i}{2} - \\sum_{j\\in \\mathcal{O}_i} n_{i,j} r_j +1}{t_i+2} $$\n",
    "\n",
    "where, using this approximation, we now have that the rating of one team is dependent on the other teams. Further, we see that the equation is a system of $n_{\\text{teams}}$ equations with $n_{\\text{teams}}$ variables as $i \\in \\{ 1,2,...,n_{\\text{teams}} \\}$:\n",
    "\n",
    "$$ (t_i + 2)r_i - \\sum_{j\\in \\mathcal{O}_i} n_{i,j} r_j = \\frac{w_i-l_i}{2} + 1 $$\n",
    "\n",
    "or, in matrix form\n",
    "\n",
    "$$ Cr = b $$\n",
    "\n",
    "where $b_i = \\frac{w_i-l_i}{2} +1 $ and the diagonal elements of $C$ are $C_{i,i}=t_i+2$ and the off-diagonal elements are $C_{i,j} = -n_{i,j}$ for $i \\neq j$.\n",
    "\n",
    "Note that $C$ is symmetric, real and positive definite (discussed by Colley) hence $C$ can be subjected to Cholesky decomposition."
   ]
  },
  {
   "cell_type": "markdown",
   "id": "980b21c6",
   "metadata": {},
   "source": [
    "### Applying the method\n",
    "We will apply the method to the soccer league 'Allsvenskan' results of 2021 to rank the teams. We can then compare the rankings to to the offical results found at https://www.svenskfotboll.se/serier-cuper/tabell-och-resultat/allsvenskan-2021/88307/.\n",
    "\n",
    "Of course, soccer has the win/draw/lose structure. We will see a draw as half a win and half a loss in our implementation. Another solution could be to filter out draws."
   ]
  },
  {
   "cell_type": "code",
   "execution_count": 24,
   "id": "3f2f40a9",
   "metadata": {},
   "outputs": [
    {
     "data": {
      "text/html": [
       "<div>\n",
       "<style scoped>\n",
       "    .dataframe tbody tr th:only-of-type {\n",
       "        vertical-align: middle;\n",
       "    }\n",
       "\n",
       "    .dataframe tbody tr th {\n",
       "        vertical-align: top;\n",
       "    }\n",
       "\n",
       "    .dataframe thead th {\n",
       "        text-align: right;\n",
       "    }\n",
       "</style>\n",
       "<table border=\"1\" class=\"dataframe\">\n",
       "  <thead>\n",
       "    <tr style=\"text-align: right;\">\n",
       "      <th></th>\n",
       "      <th>Date</th>\n",
       "      <th>H_team</th>\n",
       "      <th>A_team</th>\n",
       "      <th>Result</th>\n",
       "    </tr>\n",
       "  </thead>\n",
       "  <tbody>\n",
       "    <tr>\n",
       "      <th>1922</th>\n",
       "      <td>20210410</td>\n",
       "      <td>MalmoFF</td>\n",
       "      <td>Hammarby</td>\n",
       "      <td>H</td>\n",
       "    </tr>\n",
       "    <tr>\n",
       "      <th>1923</th>\n",
       "      <td>20210410</td>\n",
       "      <td>Orebro</td>\n",
       "      <td>Goteborg</td>\n",
       "      <td>D</td>\n",
       "    </tr>\n",
       "    <tr>\n",
       "      <th>1924</th>\n",
       "      <td>20210411</td>\n",
       "      <td>Mjallby</td>\n",
       "      <td>Varberg</td>\n",
       "      <td>D</td>\n",
       "    </tr>\n",
       "    <tr>\n",
       "      <th>1925</th>\n",
       "      <td>20210411</td>\n",
       "      <td>Halmstad</td>\n",
       "      <td>Hacken</td>\n",
       "      <td>H</td>\n",
       "    </tr>\n",
       "    <tr>\n",
       "      <th>1926</th>\n",
       "      <td>20210411</td>\n",
       "      <td>Norrkoping</td>\n",
       "      <td>Sirius</td>\n",
       "      <td>D</td>\n",
       "    </tr>\n",
       "  </tbody>\n",
       "</table>\n",
       "</div>"
      ],
      "text/plain": [
       "          Date      H_team    A_team Result\n",
       "1922  20210410     MalmoFF  Hammarby      H\n",
       "1923  20210410      Orebro  Goteborg      D\n",
       "1924  20210411     Mjallby   Varberg      D\n",
       "1925  20210411    Halmstad    Hacken      H\n",
       "1926  20210411  Norrkoping    Sirius      D"
      ]
     },
     "execution_count": 24,
     "metadata": {},
     "output_type": "execute_result"
    }
   ],
   "source": [
    "import pandas as pd\n",
    "import numpy as np\n",
    "# Import train & test data \n",
    "data_temp = pd.read_csv('C:/Users/xsoni/Desktop/allsvenskan.txt')\n",
    "\n",
    "# Date reformating to be able to easily select dates and then pick 2021\n",
    "data_temp[\"Date\"]=(data_temp[\"Date\"].str.replace(\"-\",\"\")).astype(int)\n",
    "df = data_temp[20210000<data_temp['Date']]\n",
    "df = df[df['Date']<20220000]\n",
    "\n",
    "# We define the \"winner\" columns as =1 if the home team won, 0 if draw and -1 if the away team won\n",
    "def winner(row):\n",
    "    if row['FTHG']>row['FTAG']:\n",
    "        return 'H'\n",
    "    elif row['FTHG']==row['FTAG']:\n",
    "        return 'D'\n",
    "    else:\n",
    "        return 'A'\n",
    "\n",
    "# Add result in terms of who won/draw\n",
    "df['Result'] = df.apply (lambda row: winner(row), axis=1)\n",
    "\n",
    "# Pick only what we need: H_team, A_team, Date (in case) and Result\n",
    "allsvenskan2021 = df[['Date', 'H_team', 'A_team', 'Result']]\n",
    "\n",
    "# Helsingborg only has 2 matches, we remove matches with Helsingborg such that all teams have 30 matches\n",
    "allsvenskan2021 = allsvenskan2021[allsvenskan2021['H_team'] != 'Helsingborg']\n",
    "allsvenskan2021 = allsvenskan2021[allsvenskan2021['A_team'] != 'Helsingborg']\n",
    "\n",
    "allsvenskan2021.head()"
   ]
  },
  {
   "cell_type": "markdown",
   "id": "27845a34",
   "metadata": {},
   "source": [
    "We will need a couple of functions to fill the Colley matrix and the 'b' vector. Recall that $b_i = \\frac{w_i-l_i}{2} +1$, $C_{i,i}=t_i+2$ and $C_{i,j} = -n_{i,j}$ for $i \\neq j$. Hence we implement functions to answer the following questions:\n",
    "- How many matches has team i played?\n",
    "- Out of those matches, how many are wins and how many are losses? How many were played against team j?"
   ]
  },
  {
   "cell_type": "code",
   "execution_count": 60,
   "id": "2f11f9d8",
   "metadata": {},
   "outputs": [],
   "source": [
    "def matches(team):\n",
    "    return len(allsvenskan2021[(allsvenskan2021['H_team'] == team) | (allsvenskan2021['A_team'] == team)])\n",
    "\n",
    "def wins(team):\n",
    "    temp = allsvenskan2021[(allsvenskan2021['H_team'] == team) | (allsvenskan2021['A_team'] == team)]\n",
    "    wins = temp[((temp['H_team'] == team) & (temp['Result'] == 'H')) | ((temp['A_team'] == team) & (temp['Result'] == 'A'))]\n",
    "    draws = temp[( (temp['H_team'] == team) | (temp['A_team'] == team) ) & (temp['Result'] == 'D')]\n",
    "    return len(wins)+1/2*len(draws)\n",
    "\n",
    "def losses(team):\n",
    "    return matches(team)-wins(team)\n",
    "\n",
    "def matchups(team1, team2):\n",
    "    temp = allsvenskan2021[(allsvenskan2021['H_team'] == team1) | (allsvenskan2021['A_team'] == team1)]\n",
    "    return len(temp[(temp['H_team'] == team2) | (temp['A_team'] == team2)])"
   ]
  },
  {
   "cell_type": "code",
   "execution_count": 125,
   "id": "f517a501",
   "metadata": {},
   "outputs": [],
   "source": [
    "# Make a set of teams\n",
    "A_teams = allsvenskan2021['A_team'].unique()\n",
    "H_teams = allsvenskan2021['H_team'].unique()\n",
    "teams = list(set(np.concatenate((A_teams, H_teams), axis=0)))\n",
    "n_teams = len(teams)\n",
    "\n",
    "\n",
    "# Initialize Colley matrix C (vectorized way of doing it would be a more efficient way of initializing)\n",
    "C = np.zeros([n_teams, n_teams])\n",
    "for i in range(n_teams):\n",
    "    for j in range(n_teams):\n",
    "        if i == j:\n",
    "            C[i][j] = matches(teams[i])+2\n",
    "        if i != j:\n",
    "            C[i][j] = -matchups(teams[i], teams[j])\n",
    "            \n",
    "# Initialize vector b\n",
    "b = np.zeros(n_teams)\n",
    "i = 0\n",
    "for team in teams:\n",
    "    b[i] = (wins(team)-losses(team))/2 + 1\n",
    "    i=i+1\n",
    "    \n",
    "# We solve the Colley equation for ratings using a simple solver (small matrix anyways, no need for Cholesky decomp.)\n",
    "r = np.linalg.solve(C, b)"
   ]
  },
  {
   "cell_type": "code",
   "execution_count": 143,
   "id": "d47237a0",
   "metadata": {},
   "outputs": [
    {
     "data": {
      "text/plain": [
       "[('MalmoFF', 0.6764705882352935),\n",
       " ('AIK', 0.6617647058823523),\n",
       " ('Djurgarden', 0.6470588235294112),\n",
       " ('Hammarby', 0.6176470588235288),\n",
       " ('Elfsborg', 0.6176470588235287),\n",
       " ('Kalmar', 0.558823529411764),\n",
       " ('Norrkoping', 0.5147058823529406),\n",
       " ('Goteborg', 0.4999999999999992),\n",
       " ('Mjallby', 0.48529411764705815),\n",
       " ('Varberg', 0.4705882352941169),\n",
       " ('Hacken', 0.4558823529411758),\n",
       " ('Sirius', 0.4558823529411758),\n",
       " ('Halmstad', 0.4411764705882346),\n",
       " ('Degerfors', 0.41176470588235226),\n",
       " ('Orebro', 0.2647058823529405),\n",
       " ('Ostersund', 0.22058823529411697)]"
      ]
     },
     "execution_count": 143,
     "metadata": {},
     "output_type": "execute_result"
    }
   ],
   "source": [
    "team_ratings = list(zip(teams, list(r)))\n",
    "team_ratings.sort(key = lambda x: x[1])\n",
    "team_ratings.reverse()\n",
    "team_ratings"
   ]
  },
  {
   "cell_type": "markdown",
   "id": "0cf33160",
   "metadata": {},
   "source": [
    "As compared to the true rating found here: https://www.svenskfotboll.se/serier-cuper/tabell-och-resultat/allsvenskan-2021/88307/ we see that the algorithm gives a reasonable output. Further investigations may be added at a later point."
   ]
  },
  {
   "cell_type": "code",
   "execution_count": null,
   "id": "b9415af0",
   "metadata": {},
   "outputs": [],
   "source": []
  }
 ],
 "metadata": {
  "kernelspec": {
   "display_name": "Python 3 (ipykernel)",
   "language": "python",
   "name": "python3"
  },
  "language_info": {
   "codemirror_mode": {
    "name": "ipython",
    "version": 3
   },
   "file_extension": ".py",
   "mimetype": "text/x-python",
   "name": "python",
   "nbconvert_exporter": "python",
   "pygments_lexer": "ipython3",
   "version": "3.10.6"
  }
 },
 "nbformat": 4,
 "nbformat_minor": 5
}
